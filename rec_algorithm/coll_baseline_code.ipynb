{
 "cells": [
  {
   "cell_type": "code",
   "execution_count": 1,
   "metadata": {},
   "outputs": [],
   "source": [
    "import numpy as np\n",
    "from sklearn.metrics.pairwise import cosine_similarity"
   ]
  },
  {
   "cell_type": "code",
   "execution_count": null,
   "metadata": {},
   "outputs": [],
   "source": [
    "class UserBasedCollaborativeFiltering:\n",
    "    def __init__(self, ratings):\n",
    "        \"\"\"\n",
    "        :param ratings: 사용자-아이템 평점 행렬 (2D NumPy 배열)\n",
    "        \"\"\"\n",
    "        self.ratings = ratings\n",
    "        self.similarity_matrix = cosine_similarity(ratings, ratings)\n",
    "\n",
    "    def predict(self, user_id, item_id):\n",
    "        \"\"\"\n",
    "        특정 사용자의 아이템에 대한 평점 예측\n",
    "        :param user_id: 사용자 ID\n",
    "        :param item_id: 아이템 ID\n",
    "        :return: 예측된 평점\n",
    "        \"\"\"\n",
    "        user_ratings = self.ratings[user_id]\n",
    "        similar_users = self.similarity_matrix[user_id]\n",
    "\n",
    "        non_zero_indices = user_ratings.nonzero()[0]\n",
    "        similar_users = similar_users[non_zero_indices]\n",
    "\n",
    "        weighted_ratings = np.dot(similar_users, user_ratings[non_zero_indices])\n",
    "        sum_of_weights = np.sum(np.abs(similar_users))\n",
    "\n",
    "        if sum_of_weights == 0:\n",
    "            # 특정 사용자와 유사한 사용자가 없는 경우 기본값 반환\n",
    "            return 0\n",
    "\n",
    "        prediction = weighted_ratings / sum_of_weights\n",
    "        return prediction\n",
    "\n",
    "# 예제 사용법\n",
    "if __name__ == \"__main__\":\n",
    "    # 사용자-아이템 평점 행렬 예제\n",
    "    # 각 행은 사용자를 나타내며, 각 열은 아이템을 나타냄\n",
    "    ratings = np.array([\n",
    "        [5, 3, 0, 1],\n",
    "        [4, 0, 0, 1],\n",
    "        [1, 1, 0, 5],\n",
    "        [5, 2, 0, 0],\n",
    "        [0, 0, 5, 4],\n",
    "    ])\n",
    "\n",
    "    # 협업 필터링 객체 생성\n",
    "    collaborative_filtering = UserBasedCollaborativeFiltering(ratings)\n",
    "\n",
    "    # 특정 사용자와 아이템에 대한 평점 예측\n",
    "    user_id_to_predict = 1\n",
    "    item_id_to_predict = 2\n",
    "    predicted_rating = collaborative_filtering.predict(user_id_to_predict, item_id_to_predict)\n",
    "\n",
    "    print(f\"사용자 {user_id_to_predict}이(가) 아이템 {item_id_to_predict}에 대한 예측 평점: {predicted_rating}\")\n"
   ]
  }
 ],
 "metadata": {
  "kernelspec": {
   "display_name": "Aivenv",
   "language": "python",
   "name": "python3"
  },
  "language_info": {
   "codemirror_mode": {
    "name": "ipython",
    "version": 3
   },
   "file_extension": ".py",
   "mimetype": "text/x-python",
   "name": "python",
   "nbconvert_exporter": "python",
   "pygments_lexer": "ipython3",
   "version": "3.10.12"
  },
  "orig_nbformat": 4
 },
 "nbformat": 4,
 "nbformat_minor": 2
}
